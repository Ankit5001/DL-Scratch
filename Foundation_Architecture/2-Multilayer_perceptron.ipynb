{
 "cells": [
  {
   "cell_type": "code",
   "execution_count": 31,
   "metadata": {},
   "outputs": [],
   "source": [
    "# Cell 1 - Imports\n",
    "import numpy as np\n",
    "import matplotlib.pyplot as plt"
   ]
  },
  {
   "cell_type": "markdown",
   "metadata": {},
   "source": [
    "# Multilayer Perceptron (MLP) Implementation from Scratch\n",
    "\n",
    "## Introduction\n",
    "A Multilayer Perceptron (MLP) is a type of artificial neural network that consists of at least three layers of nodes: \n",
    "- Input layer\n",
    "- Hidden layer(s)\n",
    "- Output layer\n",
    "\n",
    "Each node is a neuron that uses a nonlinear activation function. MLPs are fully connected networks where each node in one layer connects to every node in the following layer.\n",
    "\n",
    "## Key Components\n",
    "1. Forward Propagation\n",
    "2. Backward Propagation\n",
    "3. Weight Updates\n",
    "4. Activation Functions"
   ]
  },
  {
   "cell_type": "code",
   "execution_count": 32,
   "metadata": {},
   "outputs": [],
   "source": [
    "# Cell 2 - Activation Functions\n",
    "def sigmoid(x):\n",
    "    return 1 / (1 + np.exp(-x))\n",
    "\n",
    "def sigmoid_derivative(x):\n",
    "    return x * (1 - x)\n",
    "\n",
    "def tanh(x):\n",
    "    return np.tanh(x)\n",
    "\n",
    "def tanh_derivative(x):\n",
    "    return 1 - np.tanh(x)**2"
   ]
  },
  {
   "cell_type": "markdown",
   "metadata": {},
   "source": [
    "## Activation Functions\n",
    "- **Sigmoid**: Maps input to values between 0 and 1\n",
    "- **Tanh**: Maps input to values between -1 and 1\n",
    "- Both functions are differentiable, which is crucial for backpropagation"
   ]
  },
  {
   "cell_type": "markdown",
   "metadata": {},
   "source": [
    "## Network Initialization\n",
    "- Weights are initialized with small random values\n",
    "- Biases are initialized to zero\n",
    "- Network architecture is defined by input, hidden, and output layer sizes"
   ]
  },
  {
   "cell_type": "markdown",
   "metadata": {},
   "source": [
    "## Forward Propagation\n",
    "1. Input data is multiplied by first layer weights\n",
    "2. First layer bias is added\n",
    "3. Result is passed through activation function\n",
    "4. Process repeats for subsequent layers"
   ]
  },
  {
   "cell_type": "markdown",
   "metadata": {},
   "source": [
    "## Backward Propagation\n",
    "1. Calculate error at output layer\n",
    "2. Propagate error backwards through network\n",
    "3. Calculate gradients for weights and biases\n",
    "4. Update parameters using gradient descent"
   ]
  },
  {
   "cell_type": "code",
   "execution_count": 37,
   "metadata": {},
   "outputs": [],
   "source": [
    "# Cell 3 - MLP Class Definition\n",
    "class MLP:\n",
    "    def __init__(self, input_size, hidden_size, output_size):\n",
    "        # Initialize weights and biases\n",
    "        self.weights1 = np.random.randn(input_size, hidden_size) * 0.01\n",
    "        self.weights2 = np.random.randn(hidden_size, output_size) * 0.01\n",
    "        \n",
    "        self.bias1 = np.zeros((1, hidden_size))\n",
    "        self.bias2 = np.zeros((1, output_size))\n",
    "        \n",
    "        self.hidden_size = hidden_size\n",
    "        self.output_size = output_size\n",
    "\n",
    "\n",
    "    # Cell 4 - Forward Propagation\n",
    "    def forward(self, X):\n",
    "        # Forward propagation through the network\n",
    "        self.z1 = np.dot(X, self.weights1) + self.bias1\n",
    "        self.a1 = sigmoid(self.z1)\n",
    "        \n",
    "        self.z2 = np.dot(self.a1, self.weights2) + self.bias2\n",
    "        self.a2 = self.z2\n",
    "        \n",
    "        return self.a2\n",
    "\n",
    "    # Cell 5 - Backward Propagation\n",
    "    def backward(self, X, y, learning_rate):\n",
    "        m = X.shape[0]\n",
    "        \n",
    "        # Calculate gradients\n",
    "        dZ2 = self.a2 - y\n",
    "        dW2 = (1/m) * np.dot(self.a1.T, dZ2)\n",
    "        db2 = (1/m) * np.sum(dZ2, axis=0, keepdims=True)\n",
    "        \n",
    "        dZ1 = np.dot(dZ2, self.weights2.T) * sigmoid_derivative(self.a1)\n",
    "        dW1 = (1/m) * np.dot(X.T, dZ1)\n",
    "        db1 = (1/m) * np.sum(dZ1, axis=0, keepdims=True)\n",
    "        \n",
    "        # Update weights and biases\n",
    "        self.weights2 -= learning_rate * dW2\n",
    "        self.bias2 -= learning_rate * db2\n",
    "        self.weights1 -= learning_rate * dW1\n",
    "        self.bias1 -= learning_rate * db1\n",
    "\n",
    "\n",
    "    # Cell 6 - Training Function\n",
    "    def train(self, X, y, epochs, learning_rate):\n",
    "        losses = []\n",
    "        \n",
    "        for epoch in range(epochs):\n",
    "            # Forward propagation\n",
    "            output = self.forward(X)\n",
    "            \n",
    "            # Calculate loss\n",
    "            loss = np.mean(np.square(y - output))\n",
    "            losses.append(loss)\n",
    "            \n",
    "            # Backward propagation\n",
    "            self.backward(X, y, learning_rate)\n",
    "            \n",
    "            if epoch % 1000 == 0:\n",
    "                print(f'Epoch {epoch}, Loss: {loss}')\n",
    "                \n",
    "        return losses"
   ]
  },
  {
   "cell_type": "markdown",
   "metadata": {},
   "source": [
    "## Training Process\n",
    "- Iterative process of forward and backward propagation\n",
    "- Loss is calculated to monitor training progress\n",
    "- Parameters are updated using calculated gradients"
   ]
  },
  {
   "cell_type": "code",
   "execution_count": 38,
   "metadata": {},
   "outputs": [
    {
     "name": "stdout",
     "output_type": "stream",
     "text": [
      "Epoch 0, Loss: 1.98407758575129\n",
      "Epoch 1000, Loss: 0.02626609945596711\n",
      "Epoch 2000, Loss: 0.013654289132456341\n",
      "Epoch 3000, Loss: 0.009690336345166745\n",
      "Epoch 4000, Loss: 0.00765036305231091\n",
      "Epoch 5000, Loss: 0.006388512779510143\n",
      "Epoch 6000, Loss: 0.0055219835663257765\n",
      "Epoch 7000, Loss: 0.004883892265519656\n",
      "Epoch 8000, Loss: 0.004389985911933184\n",
      "Epoch 9000, Loss: 0.003993692894649767\n"
     ]
    },
    {
     "data": {
      "image/png": "[encoded data removed]",
      "text/plain": [
       "<Figure size 640x480 with 1 Axes>"
      ]
     },
     "metadata": {},
     "output_type": "display_data"
    }
   ],
   "source": [
    "# Cell 7 - Example Usage\n",
    "# Generate sample data\n",
    "X = np.random.randn(100, 2)\n",
    "y = np.array([(x[0] + x[1]).astype(float) for x in X]).reshape(-1, 1)\n",
    "   \n",
    "\n",
    "# Create and train model\n",
    "mlp = MLP(input_size=2, hidden_size=4, output_size=1)\n",
    "losses = mlp.train(X, y, epochs=10000, learning_rate=0.1)\n",
    "\n",
    "# Plot training loss\n",
    "plt.plot(losses)\n",
    "plt.title('Training Loss over Time')\n",
    "plt.xlabel('Epoch')\n",
    "plt.ylabel('Loss')\n",
    "plt.show()"
   ]
  },
  {
   "cell_type": "markdown",
   "metadata": {},
   "source": [
    "## Testing the Implementation\n",
    "- Generate synthetic binary classification data\n",
    "- Train model for 1000 epochs\n",
    "- Plot loss curve to visualize training progress"
   ]
  },
  {
   "cell_type": "code",
   "execution_count": 36,
   "metadata": {},
   "outputs": [
    {
     "data": {
      "text/plain": [
       "array([[6.06867289]])"
      ]
     },
     "execution_count": 36,
     "metadata": {},
     "output_type": "execute_result"
    }
   ],
   "source": [
    "# Cell 8 - Model Evaluation\n",
    "# Make predictions\n",
    "x = np.array([5,10])\n",
    "mlp.forward(x)\n",
    "\n",
    "# Calculat"
   ]
  },
  {
   "cell_type": "markdown",
   "metadata": {},
   "source": [
    "## Model Evaluation\n",
    "- Convert probability outputs to binary predictions\n",
    "- Calculate classification accuracy\n",
    "- Additional metrics could include precision, recall, F1-score"
   ]
  }
 ],
 "metadata": {
  "kernelspec": {
   "display_name": "venv",
   "language": "python",
   "name": "python3"
  },
  "language_info": {
   "codemirror_mode": {
    "name": "ipython",
    "version": 3
   },
   "file_extension": ".py",
   "mimetype": "text/x-python",
   "name": "python",
   "nbconvert_exporter": "python",
   "pygments_lexer": "ipython3",
   "version": "3.12.4"
  }
 },
 "nbformat": 4,
 "nbformat_minor": 2
}
